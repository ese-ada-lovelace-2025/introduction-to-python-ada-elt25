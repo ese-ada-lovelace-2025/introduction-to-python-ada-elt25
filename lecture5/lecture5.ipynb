{
 "cells": [
  {
   "cell_type": "code",
   "execution_count": 4,
   "metadata": {
    "execution": {
     "iopub.execute_input": "2025-08-13T09:02:05.576034Z",
     "iopub.status.busy": "2025-08-13T09:02:05.575825Z",
     "iopub.status.idle": "2025-08-13T09:02:07.300537Z",
     "shell.execute_reply": "2025-08-13T09:02:07.299943Z"
    }
   },
   "outputs": [],
   "source": [
    "import pybryt\n",
    "from lecture import pybryt_reference"
   ]
  },
  {
   "cell_type": "markdown",
   "metadata": {},
   "source": [
    "# Introduction to Python\n",
    "\n",
    "# Lecture 5\n",
    "\n",
    "## Introduction\n",
    "\n",
    "As we saw in [lecture 4](..\\lecture4\\lecture4.ipynb), Python classes combine a storing data (attributes) and functions (methods) that process that data. They act as a way to create new data types. In the previous lecture, we learned some of the individual features of classes. In this section we will learn to put multiple features together to implement and improve a class based on the functionality we need it to provide.\n",
    "\n",
    "## Example 1: Quaternions\n",
    "\n",
    "Just as complex numbers extend the set of real numbers into a \"two-dimensional\" space, [quaternions](https://en.wikipedia.org/wiki/Quaternion) extend the concept of \"2D\" complex numbers into a \"four-dimensional\" space. Quaternions are used in computer graphics, control theory, signal processing, and orbital mechanics, and more generally in areas involving applying multiple rotations or scalings using floating point arthimetic. In the realm of science, they are also used in physics to describe the quantum spin of a particle. We are going to briefly describe the mathematical properties of quaternions as numbers and then you will work to implement a class to represent them.\n",
    "\n",
    "### Basic Definition\n",
    "\n",
    "A quarterions is an object (viewed as a single number) consisting four real coefficients, say $a$, $b$, $c$, and $d$, along with rules for addition, mutilplication by a scalar, and multiplication by another quaternion. The rules are as follows:\n",
    "\n",
    "1. Addition: \n",
    "  $$(a, b, c, d) + (e, f, g, h) = (a+e, b+f, c+g, d+h)$$\n",
    "2. Multiplication by a scalar:\n",
    "  $$r(a, b, c, d) = (ra, rb, rc, rd)$$\n",
    "3. Multiplication by another quaternion: \n",
    "  $$(a, b, c, d)(e, f, g, h) = (ae - bf - cg - dh, af + be + ch - dg, ag - bh + ce + df, ah + bg - cf + de)$$\n",
    "These rules are enough to define the quaternions as a number system, as well as a [vector space](https://en.wikipedia.org/wiki/Vector_space) over the real numbers.\n",
    "\n",
    "Just as a complex number can be written in the form $a + bi$ (or in Python in a form like `1+2j`), a quaternion can be written in the form $a + bi + cj + dk$. This means they keep both engineers and mathematicians happy by having `i` & `j` both denote complex components of the number.\n",
    "\n",
    "By the rules of multiplication above we have:\n",
    "$$ i^2 = j^2 = k^2 = ijk = -1, $$\n",
    "$$ ij = k, \\quad jk = i, \\quad ki = j. $$\n",
    "In this sense, we can think of the $i$, $j$ and $k$ as three separate complex dimensions.\n",
    "\n",
    "### Implementing Quaternions\n",
    "\n",
    "This is enough information to start implementing a class to represent quaternions. We'll do this in a single cell immediately below. As you work through this section, we'll add more features to the class, and need to re-run the cell to update the class definition. If anything doesn't work or your results get confusing, try restarting the Python kernel and re-running that cell to see it it cleans up the problem.\n",
    "\n",
    "#### The Class Definition cell"
   ]
  },
  {
   "cell_type": "code",
   "execution_count": 58,
   "metadata": {
    "execution": {
     "iopub.execute_input": "2025-08-13T09:02:07.302699Z",
     "iopub.status.busy": "2025-08-13T09:02:07.302442Z",
     "iopub.status.idle": "2025-08-13T09:02:07.306911Z",
     "shell.execute_reply": "2025-08-13T09:02:07.306371Z"
    }
   },
   "outputs": [],
   "source": [
    "# Remember to re-run this cell after you've modified the class below\n",
    "# Carry on reading to see what to implement.\n",
    "\n",
    "\n",
    "class Quaternion:\n",
    "    \"\"\"Initializes a quaternion with the given values.\n",
    "\n",
    "    The first value is the real part, the rest are the imaginary parts. The imaginary\n",
    "    parts are i, j, and k.  For example, Quaternion(1, 2, 3, 4) represents the\n",
    "    quaternion 1 + 2i + 3j + 4k.\n",
    "\n",
    "    \"\"\"\n",
    "\n",
    "    def __init__(self, *args, **kwargs):\n",
    "        # Although there are no private attributes in Python, by convention, we use an\n",
    "        # underscore to indicate that an attribute is private and should not be accessed\n",
    "        # directly. This is a convention, and it is not enforced by the language.\n",
    "\n",
    "        a, b, c, d = 0, 0, 0, 0\n",
    "\n",
    "        # Handle positional args\n",
    "        if len(args) == 1 and isinstance(args[0], (list, tuple)): # if a single list/tuple is passed\n",
    "            values = args[0] + [0, 0, 0, 0] # pad with zeros\n",
    "            a, b, c, d = values[:4] \n",
    "        else:\n",
    "            vals = list(args) + [0, 0, 0, 0] # pad with zeros\n",
    "            a, b, c, d = vals[:4]\n",
    "\n",
    "        # Overwrite with kwargs if provided\n",
    "        a = kwargs.get(\"a\", a)\n",
    "        b = kwargs.get(\"b\", b)\n",
    "        c = kwargs.get(\"c\", c)\n",
    "        d = kwargs.get(\"d\", d)\n",
    "\n",
    "        self._1 = a\n",
    "        self._i = b\n",
    "        self._j = c\n",
    "        self._k = d\n",
    "\n",
    "    def __str__(self):\n",
    "        \"\"\"Returns the string representation of the quaternion.\"\"\"\n",
    "\n",
    "        # Helper function to format components\n",
    "        def format_component(value, suffix):\n",
    "            return f\" {'+' if value >= 0 else '-'} {abs(value)}{suffix}\"\n",
    "\n",
    "        # Format each component\n",
    "        components = [\n",
    "            f\"{self._1}\",\n",
    "            format_component(self._i, \"i\"),\n",
    "            format_component(self._j, \"j\"),\n",
    "            format_component(self._k, \"k\"),\n",
    "        ]\n",
    "\n",
    "        return \"\".join(components)\n",
    "    \n",
    "    \n",
    "    def __add__(self, other):\n",
    "        return Quaternion(\n",
    "            self._1 + other._1,\n",
    "            self._i + other._i,\n",
    "            self._j + other._j,\n",
    "            self._k + other._k,\n",
    "        )\n",
    "    \n",
    "    def __mul__(self, other):\n",
    "        \n",
    "\n",
    "        if isinstance(other, Quaternion):\n",
    "            a1, b1, c1, d1 = self._1, self._i, self._j, self._k\n",
    "            a2, b2, c2, d2 = other._1, other._i, other._j, other._k\n",
    "            return Quaternion(\n",
    "                a1*a2 - b1*b2 - c1*c2 - d1*d2,\n",
    "                a1*b2 + b1*a2 + c1*d2 - d1*c2,\n",
    "                a1*c2 - b1*d2 + c1*a2 + d1*b2,\n",
    "                a1*d2 + b1*c2 - c1*b2 + d1*a2\n",
    "            )\n",
    "\n",
    "        elif isinstance(other, (int, float)):\n",
    "            return Quaternion(\n",
    "                self._1 * other,\n",
    "                self._i * other,\n",
    "                self._j * other,\n",
    "                self._k * other\n",
    "            )\n",
    "        \n",
    "    def __rmul__(self, other):\n",
    "        return Quaternion(\n",
    "                self._1 * other,\n",
    "                self._i * other,\n",
    "                self._j * other,\n",
    "                self._k * other\n",
    "        )\n",
    "    \n",
    "    def conjugate(self):\n",
    "        return Quaternion(\n",
    "            self._1,\n",
    "            -self._i,\n",
    "            -self._j,\n",
    "            -self._k\n",
    "        )\n",
    "    \n",
    "    def __abs__(self):\n",
    "        return (self._1**2 + self._i**2 + self._j**2 + self._k**2) ** 0.5\n",
    "\n",
    "    def inverse(self):\n",
    "        norm_squared = abs(self) ** 2\n",
    "        conjucate = self.conjugate()\n",
    "        return Quaternion(\n",
    "            conjucate._1 / norm_squared,\n",
    "            conjucate._i / norm_squared,\n",
    "            conjucate._j / norm_squared,\n",
    "            conjucate._k / norm_squared\n",
    "        )\n",
    "    \n",
    "    def __repr__(self):\n",
    "        return f\"Quaternion({self._1}, {self._i}, {self._j}, {self._k})\"\n",
    "    \n",
    "    def __eq__(self, other):\n",
    "        return (\n",
    "            self._1 == other._1 and\n",
    "            self._i == other._i and\n",
    "            self._j == other._j and\n",
    "            self._k == other._k\n",
    "        )\n",
    "    \n",
    "    def __sub__(self, other):\n",
    "        return Quaternion(\n",
    "            self._1 - other._1,\n",
    "            self._i - other._i,\n",
    "            self._j - other._j,\n",
    "            self._k - other._k,\n",
    "        )\n",
    "        "
   ]
  },
  {
   "cell_type": "markdown",
   "metadata": {},
   "source": [
    "As with most classes, the first thing to do is to implement the initialisation method so that we can create new instances of the class from appropriate information. In this case, we've done this for you, and chosen the names of the attributes to be `_1`, `_i`, `_j`, and `_k`.\n",
    "\n",
    "We've also implemented the `__str__` method, which is called when the object is printed (as well as a few other times). This is a good way to check that the initialisation method is working as expected, and we can use it to test the core class initialisation."
   ]
  },
  {
   "cell_type": "code",
   "execution_count": 20,
   "metadata": {
    "execution": {
     "iopub.execute_input": "2025-08-13T09:02:07.319483Z",
     "iopub.status.busy": "2025-08-13T09:02:07.319323Z",
     "iopub.status.idle": "2025-08-13T09:02:07.321942Z",
     "shell.execute_reply": "2025-08-13T09:02:07.321430Z"
    },
    "tags": [
     "nbgrader"
    ]
   },
   "outputs": [],
   "source": [
    "assert str(Quaternion(1, 2, 3, 4)) == \"1 + 2i + 3j + 4k\""
   ]
  },
  {
   "cell_type": "markdown",
   "metadata": {},
   "source": [
    "The cell block above will show no output if the class is implemented correctly. If you see a `NameError`, then make sure that you've run the cell defining the `Quaternion` class. If you see an `AssertionError`, then\n",
    "make sure you haven't changed the initialisation or `__str__` method.\n",
    "\n",
    "### Implementing the Addition Method\n",
    "\n",
    "With the code we've already given you, you'll first need to implement the addition and multiplication methods. The addition method name to use the `+` operator is `__add__`, and it takes two arguments. The first argument is always the object itself (and as with the initialisation and `__str__` methods, it is good practice to use `self` to refer to it). The second argument is the other object being added - the Python convention is to call it `other`. This means the method signature is\n",
    "\n",
    "```python\n",
    "   def __add__(self, other):\n",
    "     # method body ending with a return statement\n",
    "```\n",
    "\n",
    "Add this method to the Quaterion class above, and implement the addition rule\n",
    "\n",
    "$$a+b\\mathit{i}+c\\mathit{j}+d\\mathit{k} + e+f\\mathit{i}+g\\mathit{j}+h\\mathit{k} = a+e+(b+f)\\mathit{i}+(c+g)\\mathit{j}+(d+h)\\mathit{k}.$$\n",
    "\n",
    "Once you're done, we can test the method by adding two quaternions together (Remember to re-run the class cell above after you've made changes to the class definition). If you see a `TypeError`, then check you've added the `__add__` method correctly (and rerun the class cell). One common mistake is geting the wrong amount of white space indentation. If you see an `AssertError` then your returned value isn't right."
   ]
  },
  {
   "cell_type": "code",
   "execution_count": 21,
   "metadata": {
    "execution": {
     "iopub.execute_input": "2025-08-13T09:02:07.323594Z",
     "iopub.status.busy": "2025-08-13T09:02:07.323414Z",
     "iopub.status.idle": "2025-08-13T09:02:07.326743Z",
     "shell.execute_reply": "2025-08-13T09:02:07.326238Z"
    },
    "tags": [
     "nbgrader"
    ]
   },
   "outputs": [],
   "source": [
    "q1 = Quaternion(1, 2, 3, 4)\n",
    "q2 = Quaternion(5, 6, 7, 8)\n",
    "\n",
    "assert str(q1 + q2) == \"6 + 8i + 10j + 12k\", \"Got: \" + str(q1 + q2)"
   ]
  },
  {
   "cell_type": "markdown",
   "metadata": {},
   "source": [
    "### Implementing the Multiplication Method\n",
    "\n",
    "Now, we want to implement multiplication. The method name is `__mul__`, and it takes the same arguments as the addition method. This means that method signature is\n",
    "\n",
    "```python\n",
    "   def __mul__(self, other):\n",
    "     # method body ending with a return statement\n",
    "```\n",
    "\n",
    "Here the method body will need to be a little more complicated, since there are two possible cases:\n",
    "- If `other` is a scalar number, then we need to multiply each component of the quaternion by `other`.\n",
    "- If `other` is another quaternion, then we need to use the multiplication rule above.\n",
    "\n",
    "We can check the type of `other` using the `isinstance` function. This function takes two arguments, the first is the object to check, and the second is the type to check against. It returns `True` if the object is of the given type, and `False` otherwise. For example, `isinstance(3, int)` returns `True`, and `isinstance(3, float)` returns `False`. In this case, we want to check if the `other` is a `Quaternion` object or not, using `isinstance(other, Quaternion)`.\n",
    "\n",
    "The \"quick\" way to implement scalar multiplication is just to code up the multiplication rule for quaternions, and if `other` is not a `Quaternion` object, then convert it into one with the scalar as the first component, i.e. creating `Quaternion(other, 0, 0, 0)`. Alternatively, you can use a set of `if`, `elif` and (if necessary) `else` statements to handle the cases separately. In the first case, your code will look something like\n",
    "\n",
    "```python\n",
    "def __mul__(self, other):\n",
    "   if not isinstance(other, Quaternion):\n",
    "      other = Quaternion(other, 0, 0, 0)\n",
    "  # rest of the method body    \n",
    "```\n",
    "\n",
    "in the second case, your code will look something like\n",
    "\n",
    "```python\n",
    "def __mul__(self, other):\n",
    "   if isinstance(other, Quaternion):\n",
    "      # result = multiplication rule for quaternion\n",
    "      return result\n",
    "   else:\n",
    "      # multiplication rule for scalar\n",
    "      return result\n",
    "```\n",
    " \n",
    "Try to implement all this, and then run our test cases below."
   ]
  },
  {
   "cell_type": "code",
   "execution_count": 22,
   "metadata": {
    "execution": {
     "iopub.execute_input": "2025-08-13T09:02:07.328326Z",
     "iopub.status.busy": "2025-08-13T09:02:07.328168Z",
     "iopub.status.idle": "2025-08-13T09:02:07.331275Z",
     "shell.execute_reply": "2025-08-13T09:02:07.330755Z"
    },
    "tags": [
     "nbgrader"
    ]
   },
   "outputs": [],
   "source": [
    "q1 = Quaternion(1, 2, 3, 4)\n",
    "q2 = Quaternion(5, 6, 7, 8)\n",
    "\n",
    "assert str(q1 * q2) == \"-60 + 12i + 30j + 24k\", \"Got: \" + str(q1 * q2)\n",
    "assert str(q2 * q1) == \"-60 + 20i + 14j + 32k\", \"Got: \" + str(q2 * q1)\n",
    "assert str(q1 * 3) == \"3 + 6i + 9j + 12k\", \"Got: \" + str(q1 * 3)"
   ]
  },
  {
   "cell_type": "markdown",
   "metadata": {},
   "source": [
    "### Additional Methods\n",
    "\n",
    "We've now implemented a method to multiply \"from the left\", i.e. solving `q * other`, but for the purposes of scalar multiplication, we also need to implement a method to multiply \"from the right\", i.e. solving `other * q`.\n",
    "\n",
    "The appropriate special method (also called a \"magic method\" or \"dunder method\") name is `__rmul__`, and it takes the same arguments as the multiplication method, except this time \"other\" is the object on the left. This means that method signature is\n",
    "\n",
    "```python\n",
    "   def __rmul__(self, other):\n",
    "     # method body ending with a return statement\n",
    "```\n",
    "\n",
    "Note that we can't just call `return self.__mul__(other)` here, since for quaternions, multiplication is not commutative (i.e. `q1 * q2` is not equal to `q2 * q2` for general quaternions `q1` and `q2`). Again there are several ways to solve this, but the one involving least code is to make `other` into a `Quaternion` object if it isn't already, and then call its `__mul__` method on self (either explicity as `other.__mul__(self)` or implicitly through `other*self`).\n",
    "\n"
   ]
  },
  {
   "cell_type": "code",
   "execution_count": 23,
   "metadata": {
    "execution": {
     "iopub.execute_input": "2025-08-13T09:02:07.332759Z",
     "iopub.status.busy": "2025-08-13T09:02:07.332610Z",
     "iopub.status.idle": "2025-08-13T09:02:07.335215Z",
     "shell.execute_reply": "2025-08-13T09:02:07.334689Z"
    },
    "tags": [
     "nbgrader"
    ]
   },
   "outputs": [],
   "source": [
    "q1 = Quaternion(1, 2, 3, 4)\n",
    "\n",
    "assert str(3 * q1) == \"3 + 6i + 9j + 12k\", \"Got: \" + str(3 * q1)"
   ]
  },
  {
   "cell_type": "markdown",
   "metadata": {},
   "source": [
    "We've now implemented the core arthmetic operations for quaternions, and can move on to more advanced features. Let's start by defining the conjugate of a quaternion. Just as the conjugate of a complex number $z= a+b\\mathit{i}$ is $\\bar{z} = a - b\\mathit{i}$,  the conjugate of a quaternion $q = a + b\\mathit{i} + c\\mathit{j} + d\\mathit{k}$ is defined as $\\bar{q} = a - b\\mathit{i} - c\\mathit{j} - \\mathit{k}$. \n",
    "\n",
    "We can implement this as a method `conjugate` that takes no additional arguments, and returns a new quaternion object with the \"imaginary\" parts negated. The method signature should be\n",
    "\n",
    "```python\n",
    "   def conjugate(self):\n",
    "     # method body ending with a return statement\n",
    "```\n",
    "\n",
    "Note that $q\\bar{q} := \\|q\\|^2 = a^2 + b^2 + c^2 + d^2$, which is a positive real number. We can define the inverse or reciprocal of a quaternion as $\\frac{\\bar{q}}{\\|q\\|^2}$, and implement this as a method `inverse`.\n",
    "```python\n",
    "   def inverse(self):\n",
    "     # method body ending with a return statement\n",
    "```\n",
    "It's not technically correct to call this division, due to the non-commutative nature of quaternion multiplication. This means that there are two \"inverse functions\" for multiplication, one which solves $xa = b$ for $x$ and one which solves $ax = b$. Using the notation $a^{-1}$ for the inverse above, the inverse from the right is $ba^{-1}$ and the inverse is $a^{-1}b$.\n",
    "\n",
    "Instead of computing the magnitude $|q|$ inside the `inverse` method, implement the special `__abs__` method. This method will be called when built in `abs` function is called on a Quaternion object. Its signature is:\n",
    "```python\n",
    "   def __abs____(self):\n",
    "     # method body ending with a return statement\n",
    "```\n",
    "\n",
    "Try to implement the `conjugate` and `inverse` methods in your `Quaternion` class above, and then run the test cases below."
   ]
  },
  {
   "cell_type": "code",
   "execution_count": 34,
   "metadata": {
    "execution": {
     "iopub.execute_input": "2025-08-13T09:02:07.336750Z",
     "iopub.status.busy": "2025-08-13T09:02:07.336591Z",
     "iopub.status.idle": "2025-08-13T09:02:07.339785Z",
     "shell.execute_reply": "2025-08-13T09:02:07.339265Z"
    },
    "tags": [
     "nbgrader"
    ]
   },
   "outputs": [],
   "source": [
    "q1 = Quaternion(1, 1, 1, 1)\n",
    "\n",
    "assert str(q1.conjugate()) == \"1 - 1i - 1j - 1k\", \"Got: \" + str(q1.conjugate())\n",
    "assert str(abs(q1)) == \"2.0\", \"Got: \" + str(abs(q1))\n",
    "assert str(q1.inverse()) == \"0.25 - 0.25i - 0.25j - 0.25k\", \"Got: \" + str(q1.inverse())"
   ]
  },
  {
   "cell_type": "markdown",
   "metadata": {},
   "source": [
    "### Refactoring the class (optional)\n",
    "\n",
    "We've now implemented all the basic functionality of quaternions. However, the class is not particularly user-friendly. Here is a list of some things you could improve:\n",
    "\n",
    "- The `__init__` method is currently not very user-friendly. It would be nice if we could create a quaternion in a few extra ways:\n",
    "  - Let `Quaternion(1) == Quaternion(1, 0, 0, 0)`.\n",
    "  - Let `Quaternion(1+2j) == Quaternion(1, 2, 0, 0)`.\n",
    "  - Let `Quaternion([1, 2, 3, 4]) == Quaternion(1, 2, 3, 4)`.\n",
    "  \n",
    "This can be done in a number of ways. One lower effort solution is to use the `*args` and/or `**kwargs` syntax to allow for a variable number of arguments and keyword arguments. "
   ]
  },
  {
   "cell_type": "code",
   "execution_count": 32,
   "metadata": {
    "execution": {
     "iopub.execute_input": "2025-08-13T09:02:07.341414Z",
     "iopub.status.busy": "2025-08-13T09:02:07.341261Z",
     "iopub.status.idle": "2025-08-13T09:02:07.344734Z",
     "shell.execute_reply": "2025-08-13T09:02:07.344228Z"
    }
   },
   "outputs": [
    {
     "name": "stdout",
     "output_type": "stream",
     "text": [
      "(1, 2) {}\n",
      "(1, 2, 3, 4, 5) {}\n",
      "(1, 2, 3, 4, 5) {'a': 6, 'b': 7, 'c': 8}\n"
     ]
    }
   ],
   "source": [
    "def function_with_var_args(*args, **kwargs):\n",
    "    print(args, kwargs)\n",
    "\n",
    "\n",
    "function_with_var_args(1, 2)\n",
    "function_with_var_args(1, 2, 3, 4, 5)\n",
    "function_with_var_args(1, 2, 3, 4, 5, a=6, b=7, c=8)"
   ]
  },
  {
   "cell_type": "code",
   "execution_count": 52,
   "metadata": {},
   "outputs": [
    {
     "name": "stdout",
     "output_type": "stream",
     "text": [
      "1 + 0i + 0j + 0k\n",
      "1 + 0i + 0j + 0k\n"
     ]
    }
   ],
   "source": [
    "print(Quaternion(1, 0, 0, 0))\n",
    "print(Quaternion(1, 0, 0, 0))"
   ]
  },
  {
   "cell_type": "markdown",
   "metadata": {},
   "source": [
    "Another things we can implement are:\n",
    "\n",
    "- We have implemented the `__str__` method, but not the `__repr__` method. The `__repr__` method is called when the object is printed in a list or dictionary, and should return a string that can be used to recreate the object. For example, `repr(Quaternion(1, 2, 3, 4))` should return the string `\"Quaternion(1, 2, 3, 4)\"`. If we copy/paste the output of `__repr__`, we should get the same object.\n",
    "- We have implemented the `__add__`, `__mul__` and  `__rmul__`, methods, but not the `__sub__`, `__eq__` methods (or a few others).\n"
   ]
  },
  {
   "cell_type": "code",
   "execution_count": 56,
   "metadata": {
    "execution": {
     "iopub.execute_input": "2025-08-13T09:02:07.346394Z",
     "iopub.status.busy": "2025-08-13T09:02:07.346235Z",
     "iopub.status.idle": "2025-08-13T09:02:07.349561Z",
     "shell.execute_reply": "2025-08-13T09:02:07.349004Z"
    },
    "tags": [
     "nbgrader"
    ]
   },
   "outputs": [],
   "source": [
    "assert repr(Quaternion(1, -2, 3, 4)) == \"Quaternion(1, -2, 3, 4)\"\n",
    "\n",
    "assert Quaternion(1) == Quaternion(1, 0, 0, 0)\n",
    "assert Quaternion(1, 2) == Quaternion(1, 2, 0, 0)\n",
    "assert Quaternion(b=2) == Quaternion(0, 2, 0, 0)\n",
    "\n",
    "assert Quaternion(1, 2, 3, 4) - Quaternion(5, 6, 7, 8) == Quaternion(-4, -4, -4, -4)"
   ]
  },
  {
   "cell_type": "code",
   "execution_count": 59,
   "metadata": {
    "execution": {
     "iopub.execute_input": "2025-08-13T09:02:07.351232Z",
     "iopub.status.busy": "2025-08-13T09:02:07.351070Z",
     "iopub.status.idle": "2025-08-13T09:02:07.553163Z",
     "shell.execute_reply": "2025-08-13T09:02:07.552412Z"
    },
    "tags": [
     "pybryt"
    ]
   },
   "outputs": [
    {
     "name": "stdout",
     "output_type": "stream",
     "text": [
      "REFERENCE: exercise-5_1\n",
      "SATISFIED: True\n",
      "MESSAGES:\n",
      "  - SUCCESS: Your repr method is correctly implemented. Well done!\n",
      "  - SUCCESS: Great! Your str method is correctly implemented.\n",
      "  - SUCCESS: Your __add__ method is correctly implemented.\n",
      "  - SUCCESS: Your __sub__ method is correctly implemented.\n",
      "  - SUCCESS: Your implementation of multiplication with a scalar is correct.\n",
      "  - SUCCESS: Your __mul__ method is correctly implemented.\n",
      "  - SUCCESS: Your __abs__ method is correctly implemented.\n",
      "  - SUCCESS: The conjugate of a quaternion is correct.\n"
     ]
    }
   ],
   "source": [
    "with pybryt.check(pybryt_reference(5, 1)):\n",
    "    q1 = Quaternion(1, -2, 3, -4)\n",
    "    q2 = Quaternion(15, 2, 0, -1)\n",
    "\n",
    "    repr(q1), str(q1)\n",
    "    repr(q1 + q2)\n",
    "    repr(q2 - q1)\n",
    "    repr(5 * q1)\n",
    "    repr(q1 * q2)\n",
    "    abs(q1)\n",
    "    repr(q1.conjugate())"
   ]
  },
  {
   "cell_type": "markdown",
   "metadata": {},
   "source": [
    "## Example 2: Building Triangles\n",
    "\n",
    "### Problem Statement\n",
    "\n",
    "The second example we will consider is building a collection of classes to represent the information present in triangles. We've defined a class for points in two dimensions. You'll then use this to define a class for line segments (defined by two points), and then a class for triangles (defined by three points). We'll then add methods to calculate the area and perimeter of the triangle, and the length of the line segment.\n",
    "\n",
    "### The Point Class Defintion\n",
    "\n",
    " We'll define a class to represent a point in 2D space. You will then need to implement a line segment (to represent an edge for a triangle), and finally a triangle. We will add appropriate methods to each class to calculate the area and perimeter of a triangle and the length of a line segment."
   ]
  },
  {
   "cell_type": "code",
   "execution_count": 60,
   "metadata": {
    "execution": {
     "iopub.execute_input": "2025-08-13T09:02:07.555441Z",
     "iopub.status.busy": "2025-08-13T09:02:07.555200Z",
     "iopub.status.idle": "2025-08-13T09:02:07.558784Z",
     "shell.execute_reply": "2025-08-13T09:02:07.558241Z"
    }
   },
   "outputs": [],
   "source": [
    "from dataclasses import dataclass\n",
    "\n",
    "\n",
    "@dataclass\n",
    "class Point:\n",
    "    x: float\n",
    "    y: float"
   ]
  },
  {
   "cell_type": "markdown",
   "metadata": {},
   "source": [
    "Here we've used the `dataclass` decorator from the `dataclasses` module to define the class. This is a more concise way to define a class, and is particularly useful when the class is just a container for data.\n",
    "\n",
    "The `dataclass` decorator automatically adds an `__init__` method, and `__repr__` method, and `__eq__` method, and a few other things. The `__init__` method takes the same arguments as the class, and the `__repr__` method returns a string that can be used to recreate the object. The `__eq__` method checks if two objects are equal. "
   ]
  },
  {
   "cell_type": "code",
   "execution_count": 61,
   "metadata": {
    "execution": {
     "iopub.execute_input": "2025-08-13T09:02:07.560759Z",
     "iopub.status.busy": "2025-08-13T09:02:07.560572Z",
     "iopub.status.idle": "2025-08-13T09:02:07.563880Z",
     "shell.execute_reply": "2025-08-13T09:02:07.563491Z"
    }
   },
   "outputs": [
    {
     "name": "stdout",
     "output_type": "stream",
     "text": [
      "Point(x=1.0, y=2.0) Point(x=2.5, y=4.0)\n",
      "False\n",
      "True\n"
     ]
    }
   ],
   "source": [
    "# Examples of usage\n",
    "p1 = Point(1.0, 2.0)\n",
    "p2 = Point(x=2.5, y=4.0)\n",
    "\n",
    "print(p1, p2)\n",
    "print(p1 == p2)\n",
    "print(p1 == Point(1.0, 2.0))"
   ]
  },
  {
   "cell_type": "markdown",
   "metadata": {},
   "source": [
    "### The LineSegment Class Implementation\n",
    "\n",
    "Given the `Point` class definition above, we can now implement a `LineSegment` class which takes two `Point` objects as arguments to its `__init__` method. The `__init__` method should store these two points as attributes of the object. We'll also want a `length` method to calculate the length of the line segment."
   ]
  },
  {
   "cell_type": "code",
   "execution_count": 78,
   "metadata": {
    "execution": {
     "iopub.execute_input": "2025-08-13T09:02:07.565361Z",
     "iopub.status.busy": "2025-08-13T09:02:07.565222Z",
     "iopub.status.idle": "2025-08-13T09:02:07.568215Z",
     "shell.execute_reply": "2025-08-13T09:02:07.567691Z"
    }
   },
   "outputs": [],
   "source": [
    "class LineSegment:\n",
    "    def __init__(self, start: Point, end: Point):\n",
    "        self.start = start\n",
    "        self.end = end\n",
    "\n",
    "    def __repr__(self):\n",
    "        return f\"LineSegment({self.start}, {self.end})\"\n",
    "\n",
    "    def length(self) -> float:\n",
    "        return ((self.end.x - self.start.x) ** 2 + (self.end.y - self.start.y) ** 2) ** 0.5\n",
    "        \n",
    "    def midpoint(self) -> Point:\n",
    "        return Point(\n",
    "            (self.start.x + self.end.x) / 2,\n",
    "            (self.start.y + self.end.y) / 2\n",
    "        )\n",
    "    \n",
    "    def intersects(self, other):\n",
    "        \n",
    "        x1 = self.start.x\n",
    "        x2 = self.end.x\n",
    "\n",
    "        y1 = self.start.y\n",
    "        y2 = self.end.y\n",
    "\n",
    "        x3 = other.start.x\n",
    "        x4 = other.end.x\n",
    "\n",
    "        y3 = other.start.y\n",
    "        y4 = other.end.y\n",
    "\n",
    "        DetA = (x1 - x2) * (y3 - y4) - (y1 - y2) * (x3 - x4)\n",
    "\n",
    "        if DetA == 0:\n",
    "            return False\n",
    "        \n",
    "        # solve using cramer's rule\n",
    "\n",
    "        t1 = ((x1 - x3) * (y3 - y4) - (y1 - y3) * (x3 - x4)) / DetA\n",
    "        t2 = ((x1 - x3) * (y1 - y2) - (y1 - y3) * (x1 - x2)) / DetA\n",
    "\n",
    "        return 0 <= t1 <= 1 and 0 <= t2 <= 1\n"
   ]
  },
  {
   "cell_type": "markdown",
   "metadata": {},
   "source": [
    "Here we've used the optional \"type hints\" feature of Python to specify the types of the arguments to the `__init__` method. This is not necessary (nor it is checked), but can be useful for documentation and for catching errors. The type hints are specified in the method signature, and are separated from the argument name by a colon. For example, `p1: Point` specifies that `p1` is a `Point` object. Similarly, `-> float` suggests that the `length` method returns a `float` object. Once again, this is not checked anywhere, and only provides a hint to the user, either in code or through documentation.\n",
    "\n",
    "We'll also need some tests on the class:"
   ]
  },
  {
   "cell_type": "code",
   "execution_count": 79,
   "metadata": {
    "execution": {
     "iopub.execute_input": "2025-08-13T09:02:07.576719Z",
     "iopub.status.busy": "2025-08-13T09:02:07.576573Z",
     "iopub.status.idle": "2025-08-13T09:02:07.579291Z",
     "shell.execute_reply": "2025-08-13T09:02:07.578888Z"
    },
    "tags": [
     "nbgrader"
    ]
   },
   "outputs": [],
   "source": [
    "from math import isclose\n",
    "\n",
    "p1 = Point(0, 0)\n",
    "p2 = Point(3, 4)\n",
    "\n",
    "assert isclose(LineSegment(p1, p2).length(), 5)"
   ]
  },
  {
   "cell_type": "markdown",
   "metadata": {},
   "source": [
    "#### Extending the LineSegment Class\n",
    "\n",
    "\n",
    "- add a method to the `LineSegment` class called `midpoint()`. It should return a `Point` object representing the midpoint of the line segment.\n",
    "- (more challenging) add a method to the `LineSegment` class called `intersects`. It should take another `LineSegment` object as an argument, and return `True` if the two line segments intersect, and `False` otherwise. You can assume that the line segments are not colinear if you'd like to reduce your workload.\n",
    "  As a hint, you can use the following algorithm to check if two line segments intersect:\n",
    "    - We can write any line segment as a parametric equation, i.e. $\\mathbf{r}(t) = \\mathbf{p}_1 + t(\\mathbf{p}_2 - \\mathbf{p}_1)$, where $\\mathbf{p}_1$ and $\\mathbf{p}_2$ are beginning and end of the line segment, and $t$ is a real number between 0 and 1.\n",
    "    - Two line segments intersect if and only if the parametric equations of the two line segments have a common solution, i.e. there exists $t_1$ and $t_2$ such that $\\mathbf{r}_1(t_1) = \\mathbf{r}_2(t_2)$.\n",
    "    - Substituting the parametric equations into the equation $\\mathbf{r}_1(t_1) = \\mathbf{r}_2(t_2)$, we get a system of 2 linear equations in $t_1$ and $t_2$. If the system has a solution (and the values of $t_1$ and $t_2$ are in the range $0-1$), then the line segments intersect."
   ]
  },
  {
   "cell_type": "code",
   "execution_count": 80,
   "metadata": {
    "execution": {
     "iopub.execute_input": "2025-08-13T09:02:07.580986Z",
     "iopub.status.busy": "2025-08-13T09:02:07.580716Z",
     "iopub.status.idle": "2025-08-13T09:02:07.584519Z",
     "shell.execute_reply": "2025-08-13T09:02:07.584149Z"
    },
    "tags": [
     "nbgrader"
    ]
   },
   "outputs": [],
   "source": [
    "p1 = Point(-2, -2)\n",
    "p2 = Point(2, 2)\n",
    "\n",
    "assert LineSegment(p1, p2).midpoint() == Point(0, 0)\n",
    "\n",
    "line_segment1 = LineSegment(Point(0, 0), Point(10, 10))\n",
    "line_segment2 = LineSegment(Point(1, 1), Point(11, 11))\n",
    "line_segment3 = LineSegment(Point(10, 0), Point(0, 10))\n",
    "line_segment4 = LineSegment(Point(0, 0), Point(10, 10))\n",
    "\n",
    "assert not line_segment1.intersects(line_segment2)\n",
    "assert line_segment1.intersects(line_segment3)\n",
    "assert line_segment3.intersects(line_segment4)"
   ]
  },
  {
   "cell_type": "code",
   "execution_count": 81,
   "metadata": {
    "execution": {
     "iopub.execute_input": "2025-08-13T09:02:07.586311Z",
     "iopub.status.busy": "2025-08-13T09:02:07.586148Z",
     "iopub.status.idle": "2025-08-13T09:02:07.780541Z",
     "shell.execute_reply": "2025-08-13T09:02:07.779989Z"
    },
    "tags": [
     "pybryt"
    ]
   },
   "outputs": [
    {
     "name": "stdout",
     "output_type": "stream",
     "text": [
      "REFERENCE: exercise-5_2\n",
      "SATISFIED: True\n",
      "MESSAGES:\n",
      "  - SUCCESS: Your repr method is correctly implemented. Well done!\n",
      "  - SUCCESS: Your length method is correct.\n",
      "  - SUCCESS: Your midpoint calculation (x) is correct.\n",
      "  - SUCCESS: Your midpoint calculation (y) is correct.\n",
      "  - SUCCESS: Your intersection calculation seems to be correct.\n"
     ]
    }
   ],
   "source": [
    "with pybryt.check(pybryt_reference(5, 2)):\n",
    "    l1 = LineSegment(Point(0, 0), Point(1, 1))\n",
    "    l2 = LineSegment(Point(0, 1), Point(1, 0))\n",
    "\n",
    "    repr(l1)\n",
    "    l1.length()\n",
    "    l2.midpoint().x\n",
    "    l2.midpoint().y\n",
    "    l1.intersects(l2)"
   ]
  },
  {
   "cell_type": "markdown",
   "metadata": {},
   "source": [
    "### The Triangle class Implementation\n",
    "\n",
    "Finally, we need to implement a `Triangle` class. We'll choose to use an initialisation method that takes three `Point` objects as arguments, and stores them as attributes of the object. We'll also want methods to calculate the area and perimeter of the triangle."
   ]
  },
  {
   "cell_type": "code",
   "execution_count": null,
   "metadata": {},
   "outputs": [],
   "source": []
  },
  {
   "cell_type": "code",
   "execution_count": 112,
   "metadata": {
    "execution": {
     "iopub.execute_input": "2025-08-13T09:02:07.782454Z",
     "iopub.status.busy": "2025-08-13T09:02:07.782281Z",
     "iopub.status.idle": "2025-08-13T09:02:07.785572Z",
     "shell.execute_reply": "2025-08-13T09:02:07.784948Z"
    }
   },
   "outputs": [],
   "source": [
    "import math\n",
    "import numpy as np\n",
    "\n",
    "class Triangle:\n",
    "    def __init__(self, a: Point, b: Point, c: Point):\n",
    "        self.a = a\n",
    "        self.b = b\n",
    "        self.c = c\n",
    "        self.side1 = LineSegment(self.a, self.b)\n",
    "        self.side2 = LineSegment(self.b, self.c)\n",
    "        self.side3 = LineSegment(self.c, self.a)\n",
    "\n",
    "    def area(self) -> float:\n",
    "        x1, y1 = self.a.x, self.a.y\n",
    "        x2, y2 = self.b.x, self.b.y\n",
    "        x3, y3 = self.c.x, self.c.y\n",
    "\n",
    "        area = 0.5 * abs(\n",
    "            x2*y3 - x3*y2 - x1*y3 + x3*y1 + x1*y2 - x2*y1\n",
    "        )\n",
    "        return area\n",
    "\n",
    "    def perimeter(self) -> float:\n",
    "        return self.side1.length() + self.side2.length() + self.side3.length()\n",
    "    \n",
    "    def edges(self):\n",
    "        return (self.side1.length(), self.side2.length(), self.side3.length())\n",
    "        # note: the assertion test looks like it is expecting a tuple of side lengths, not the LineSegments. Hence, returning side lenghts\n",
    "\n",
    "    def angles(self) -> tuple[float, float, float]:\n",
    "        a = self.side2.length()\n",
    "        b = self.side3.length()\n",
    "        c = self.side1.length()\n",
    "\n",
    "        A = math.acos((b*b + c*c - a*a) / (2.0*b*c))\n",
    "        B = math.acos((a*a + c*c - b*b) / (2.0*a*c))\n",
    "        C = math.acos((a*a + b*b - c*c) / (2.0*a*b))\n",
    "\n",
    "        return (C, A, B) # ordered these to fit assertion\n",
    "    \n",
    "    def contains_point(self, p: Point) -> bool:\n",
    "        x1, y1 = self.a.x, self.a.y\n",
    "        x2, y2 = self.b.x, self.b.y\n",
    "        x3, y3 = self.c.x, self.c.y\n",
    "\n",
    "        # norm vectors\n",
    "        n1 = (y2 - y1, x1 - x2)\n",
    "        n2 = (y3 - y2, x2 - x3)\n",
    "        n3 = (y1 - y3, x3 - x1)\n",
    "\n",
    "        # point to vertices\n",
    "        v1 = (p.x - x1, p.y - y1)\n",
    "        v2 = (p.x - x2, p.y - y2)\n",
    "        v3 = (p.x - x3, p.y - y3)\n",
    "\n",
    "        dot1 = np.dot(n1, v1)\n",
    "        dot2 = np.dot(n2, v2)\n",
    "        dot3 = np.dot(n3, v3)\n",
    "\n",
    "        return (dot1 >= 0 and dot2 >= 0 and dot3 >= 0) or (dot1 <= 0 and dot2 <= 0 and dot3 <= 0)\n"
   ]
  },
  {
   "cell_type": "code",
   "execution_count": 110,
   "metadata": {
    "execution": {
     "iopub.execute_input": "2025-08-13T09:02:07.796041Z",
     "iopub.status.busy": "2025-08-13T09:02:07.795872Z",
     "iopub.status.idle": "2025-08-13T09:02:07.800201Z",
     "shell.execute_reply": "2025-08-13T09:02:07.799622Z"
    },
    "tags": [
     "nbgrader"
    ]
   },
   "outputs": [],
   "source": [
    "p1 = Point(0, 0)\n",
    "p2 = Point(1, 0)\n",
    "p3 = Point(0, 1)\n",
    "\n",
    "t = Triangle(p1, p2, p3)\n",
    "\n",
    "assert isclose(t.area(), 0.5), \"Check your area calculation\"\n",
    "assert isclose(t.perimeter(), 1 + 1 + math.sqrt(2)), \"Check your perimeter calculation\"\n"
   ]
  },
  {
   "cell_type": "markdown",
   "metadata": {},
   "source": [
    "### Extending the Triangle Class\n",
    "\n",
    "- add a new method to the `Triangle` class, `edges()`, that returns a `tuple` containing the three `LineSegment`s which form the edges of the `Triangle`. \n",
    "The edges should be ordered so that the first vertex of the first edge is the first vertex of the triangle, and the second vertex of the first edge is the second vertex of the triangle, as well as being the first vertex of the second edge, and so on.\n",
    "- add a method to the `Triangle` class called  `angles()`. It should return a tuple of three floats, each representing the interior angle _in radians_ of the vertices of the triangle, ordered so that the first angle is at the first vertex of the triangle, and so on.\n",
    "- (more challenging) add a method to the `Triangle` class called `contains_point` that takes a `Point` object as an argument, and returns `True` if the point is inside (or on an edge of) the triangle, and `False` otherwise. You can use the following algorithm to solve this problem:\n",
    "  - For each edge of the triangle, calculate the normal vector to the edge.   you can do this by calculating\n",
    "    $$\\mathbf{n} = \\begin{pmatrix} y_2 - y_1 \\\\ x_1 - x_2 \\end{pmatrix},$$\n",
    "    where $(x_1, y_1)$ and $(x_2, y_2)$ are the coordinates of the two vertices of the edge.\n",
    "  - Calculate the vector from one of the vertices of the edge to the point.\n",
    "  - If the dot product of these two vectors is positive for all edges, then the point is inside the triangle. If the dot product is negative for any edge, then the point is outside the triangle. If the dot product is zero for an edge, (and positive for the others) then the point is on the edge of the triangle.\n",
    "  \n",
    "  You can use additional packages such as  `numpy`if you like, but it is not necessary.\n"
   ]
  },
  {
   "cell_type": "code",
   "execution_count": 113,
   "metadata": {
    "execution": {
     "iopub.execute_input": "2025-08-13T09:02:07.802075Z",
     "iopub.status.busy": "2025-08-13T09:02:07.801894Z",
     "iopub.status.idle": "2025-08-13T09:02:07.805821Z",
     "shell.execute_reply": "2025-08-13T09:02:07.805262Z"
    },
    "tags": [
     "nbgrader"
    ]
   },
   "outputs": [],
   "source": [
    "p1 = Point(0, 0)\n",
    "p2 = Point(1, 0)\n",
    "p3 = Point(0, 1)\n",
    "\n",
    "t = Triangle(p1, p2, p3)\n",
    "\n",
    "assert isclose(t.edges()[0], 1) # note: it looks like this is expecting the edge length, and not the LineSegment class? (Have done this in the class)\n",
    "assert isclose(t.edges()[1], math.sqrt(2))\n",
    "assert isclose(t.edges()[2], 1)\n",
    "assert isclose(t.angles()[0], math.pi / 4)\n",
    "assert isclose(t.angles()[1], math.pi / 2)\n",
    "assert isclose(t.angles()[2], math.pi / 4)\n",
    "assert not t.contains_point(Point(1, 1))"
   ]
  },
  {
   "cell_type": "markdown",
   "metadata": {},
   "source": [
    "### Extending the shape design via inheritance (optional)\n",
    "\n",
    "- We can also extend functionality to allow for more shapes, such as squares, hexagons and so on. The \"best\" way to do this in Python is to define a new \"abstract\" class called `Polygon` that implements reusable methods for generic shapes (where possible) in terms of the Points or edges of the polygon, and then define a new class for each shape that inherits from `Polygon` as a base class and which implements the methods that are specific to that shape (for example the `area` method for a triangle is different to the `area` method for a square).\n",
    "\n",
    "By defining `Polygon` as "
   ]
  },
  {
   "cell_type": "code",
   "execution_count": 126,
   "metadata": {
    "execution": {
     "iopub.execute_input": "2025-08-13T09:02:07.807507Z",
     "iopub.status.busy": "2025-08-13T09:02:07.807339Z",
     "iopub.status.idle": "2025-08-13T09:02:07.810645Z",
     "shell.execute_reply": "2025-08-13T09:02:07.810130Z"
    }
   },
   "outputs": [],
   "source": [
    "from abc import ABC, abstractmethod\n",
    "\n",
    "\n",
    "class Polygon(ABC):\n",
    "    def __init__(self, *args):\n",
    "        vertices = args\n",
    "        self.vertices = vertices\n",
    "        self.sides = [\n",
    "            LineSegment(vertices[i], vertices[(i + 1) % len(vertices)])\n",
    "            for i in range(len(vertices))\n",
    "        ]\n",
    "\n",
    "    def perimeter(self):\n",
    "        return sum(side.length() for side in self.sides)\n",
    "\n",
    "    def edges(self):\n",
    "        return self.sides\n",
    "\n",
    "    @abstractmethod\n",
    "    def area(self):\n",
    "        pass"
   ]
  },
  {
   "cell_type": "code",
   "execution_count": 127,
   "metadata": {
    "execution": {
     "iopub.execute_input": "2025-08-13T09:02:07.812232Z",
     "iopub.status.busy": "2025-08-13T09:02:07.812074Z",
     "iopub.status.idle": "2025-08-13T09:02:07.815096Z",
     "shell.execute_reply": "2025-08-13T09:02:07.814559Z"
    }
   },
   "outputs": [],
   "source": [
    "class Quadrilateral(Polygon):\n",
    "    def __init__(self, a, b, c, d):\n",
    "        # Here, super() will call the __init__ method of the parent class -\n",
    "        # Polygon.__init__().\n",
    "        super().__init__(a, b, c, d)\n",
    "\n",
    "    @property\n",
    "    def area(self):\n",
    "        x = [v.x for v in self.vertices]\n",
    "        y = [v.y for v in self.vertices]\n",
    "        return 0.5 * abs(\n",
    "            sum(x[i] * y[(i + 1) % 4] - x[(i + 1) % 4] * y[i] for i in range(4)) # gauss' shoelace formula\n",
    "        )"
   ]
  },
  {
   "cell_type": "code",
   "execution_count": 130,
   "metadata": {},
   "outputs": [
    {
     "name": "stdout",
     "output_type": "stream",
     "text": [
      "16.0\n"
     ]
    }
   ],
   "source": [
    "# Test :)\n",
    "rectangle = Quadrilateral(Point(0, 0), Point(4, 0), Point(4, 4), Point(0, 4))\n",
    "print(rectangle.area)"
   ]
  },
  {
   "cell_type": "markdown",
   "metadata": {},
   "source": [
    "## Example 3: Designing your own class\n",
    "\n",
    "### Problem Statement\n",
    "\n",
    "The final problem is always the most challenging: designing your own class from scratch. We'll give you a problem statement, and you'll need to design a class to solve it. The problem statement is as follows:\n",
    "\n",
    "Build a class to represent the data provided from a [weather station](https://en.wikipedia.org/wiki/Weather_station). The station has the following fixed data attached to it:\n",
    "- A name (a string)\n",
    "- A location (a tuple of two floats, representing the latitude and longitude)\n",
    "- A height above sea level (a float, representing the height in meters)\n",
    "\n",
    "The station also has (at a minimum) the following data that change over time:\n",
    "\n",
    "- A temperature (a float, representing the temperature in degrees Celsius)\n",
    "- A humidity (a float, representing the humidity as a percentage)\n",
    "- The pressure (a float, representing the pressure in hPa)\n",
    "\n",
    "The class should have methods to do the following:\n",
    "\n",
    "- An initialisation method (`__init__`) that takes the name, location, and height above sea level as arguments, and stores them, as well as doing some initialisation of the temperature, humidity and pressure (plus other variables if you've added them).\n",
    "- A method to update the temperature, humidity, and pressure.\n",
    "- Appropriately implemented `__str__` and `__repr__` methods.\n",
    "- Methods to calculate appropriate \"weather\" metrics, such as the [dew point](https://en.wikipedia.org/wiki/Dew_point) (it's ok to use the simplified formula), the [heat index](https://en.wikipedia.org/wiki/Heat_index), and so on, and to convert between different temperature scales (e.g. Celsius, Fahrenheit, Kelvin). You may want to make use of the `@property` decorator to make these methods feel like attributes to the user."
   ]
  },
  {
   "cell_type": "code",
   "execution_count": 233,
   "metadata": {
    "execution": {
     "iopub.execute_input": "2025-08-13T09:02:07.816679Z",
     "iopub.status.busy": "2025-08-13T09:02:07.816512Z",
     "iopub.status.idle": "2025-08-13T09:02:07.819059Z",
     "shell.execute_reply": "2025-08-13T09:02:07.818482Z"
    }
   },
   "outputs": [],
   "source": [
    "# Write your class here. As with previous examples, you may\n",
    "# want to test aspects of your class as you go along\n",
    "\n",
    "from datetime import datetime\n",
    "\n",
    "\n",
    "import matplotlib.pyplot as plt\n",
    "\n",
    "class Plotter:\n",
    "    def __init__(self, station):\n",
    "        self._station = station\n",
    "\n",
    "    def temperature(self):\n",
    "        plt.plot(self._station._temperatures[1], self._station._temperatures[0])\n",
    "        plt.gcf().autofmt_xdate()\n",
    "        plt.xlabel(\"Date\")\n",
    "        plt.ylabel(\"Temperature (°C)\")\n",
    "        plt.title(f\"Temperature at {self._station._name}\")\n",
    "        plt.show()\n",
    "\n",
    "    def humidity(self):\n",
    "        plt.plot(self._station._humidities[1], self._station._humidities[0])\n",
    "        plt.gcf().autofmt_xdate()\n",
    "        plt.xlabel(\"Date\")\n",
    "        plt.ylabel(\"Humidity (%)\")\n",
    "        plt.title(f\"Humidity at {self._station._name}\")\n",
    "        plt.show()\n",
    "\n",
    "    def pressure(self):\n",
    "        plt.plot(self._station._pressures[1], self._station._pressures[0])\n",
    "        plt.gcf().autofmt_xdate()\n",
    "        plt.xlabel(\"Date\")\n",
    "        plt.ylabel(\"Pressure (hPa)\")\n",
    "        plt.title(f\"Pressure at {self._station._name}\")\n",
    "        plt.show()\n",
    "\n",
    "    def all(self):\n",
    "        fig, axs = plt.subplots(1, 3, figsize=(7, 4))\n",
    "\n",
    "        axs[0].plot(self._station._temperatures[1], self._station._temperatures[0])\n",
    "        axs[0].set_title(f\"Temperature at {self._station._name}\")\n",
    "        axs[0].set_xlabel(\"Date\")\n",
    "        axs[0].set_ylabel(\"Temperature (°C)\")\n",
    "        axs[0].xaxis.set_tick_params(rotation=45)\n",
    "\n",
    "        axs[1].plot(self._station._humidities[1], self._station._humidities[0])\n",
    "        axs[1].set_title(f\"Humidity at {self._station._name}\")\n",
    "        axs[1].set_xlabel(\"Date\")\n",
    "        axs[1].set_ylabel(\"Humidity (%)\")\n",
    "        axs[1].xaxis.set_tick_params(rotation=45)\n",
    "\n",
    "        axs[2].plot(self._station._pressures[1], self._station._pressures[0])\n",
    "        axs[2].set_title(f\"Pressure at {self._station._name}\")\n",
    "        axs[2].set_xlabel(\"Date\")\n",
    "        axs[2].set_ylabel(\"Pressure (hPa)\")\n",
    "        axs[2].xaxis.set_tick_params(rotation=45)\n",
    "\n",
    "        plt.tight_layout()\n",
    "        plt.show()\n",
    "\n",
    "class weather_station:\n",
    "    \"\"\"\n",
    "    A weather station that records daily temperature, humidity, and pressure data\n",
    "    With plotting functionality :)\n",
    "    \"\"\"\n",
    "    def __init__(self, name: str, location: tuple, height: float):\n",
    "        self._name = name\n",
    "        self._location = location\n",
    "        self._height = height\n",
    "        \n",
    "        # Data structure: [[values], [dates]]\n",
    "        self._temperatures = [[], []]\n",
    "        self._humidities = [[], []]\n",
    "        self._pressures = [[], []]\n",
    "\n",
    "        self.plot = Plotter(self)\n",
    "\n",
    "    def __str__(self):\n",
    "        return f\"Weather Station: {self._name}, Location: {self._location}, Height: {self._height}m\"\n",
    "    \n",
    "    def __repr__(self):\n",
    "        return f\"Weather Station: {self._name}, Location: {self._location}, Height: {self._height}m\"\n",
    "\n",
    "    def record_temperature(self, value: float, date: str):\n",
    "        \"\"\"\n",
    "        Records a temperature value (Celcius) along with the date of recording.\n",
    "\n",
    "        Temperature: float\n",
    "        Date: str (format: \"YYYY-MM-DD\")\n",
    "        \"\"\"\n",
    "        self._temperatures[0].append(value)\n",
    "        self._temperatures[1].append(datetime.strptime(date, \"%Y-%m-%d\"))\n",
    "\n",
    "    def record_humidity(self, value: float, date: str):\n",
    "        \"\"\"\n",
    "        Records a humidity value (%) along with the date of recording.\n",
    "\n",
    "        Humidity: float\n",
    "        Date: str (format: \"YYYY-MM-DD\")\n",
    "        \"\"\"\n",
    "        self._humidities[0].append(value)\n",
    "        self._humidities[1].append(datetime.strptime(date, \"%Y-%m-%d\"))\n",
    "\n",
    "    def record_pressure(self, value: float, date: str):\n",
    "        \"\"\"\n",
    "        Records a pressure value (hPa) along with the date of recording.\n",
    "\n",
    "        Pressure: float\n",
    "        Date: str (format: \"YYYY-MM-DD\")\n",
    "        \"\"\"\n",
    "        self._pressures[0].append(value)\n",
    "        self._pressures[1].append(datetime.strptime(date, \"%Y-%m-%d\"))\n",
    "\n",
    "    def rename(self, new_name: str):\n",
    "        \"\"\"\n",
    "        Renames the weather station.\n",
    "\n",
    "        New Name: str\n",
    "        \"\"\"\n",
    "        self._name = new_name\n",
    "\n",
    "    @property\n",
    "    def kelvin(self) -> list:\n",
    "        \"\"\"Converts temperature series to kelvin\"\"\"\n",
    "        return [temp + 273.15 for temp in self._temperatures[0]]\n",
    "    \n",
    "    @property\n",
    "    def celsius(self) -> list:\n",
    "        \"\"\"Returns temperature series in celsius\"\"\"\n",
    "        return self._temperatures[0]\n",
    "    \n",
    "    @property\n",
    "    def fahrenheit(self) -> list:\n",
    "        \"\"\"Converts temperature series to fahrenheit\"\"\"\n",
    "        return [(temp * 9/5) + 32 for temp in self._temperatures[0]]\n",
    "\n",
    "    @property\n",
    "    def dew_point(self) -> list:\n",
    "        \"\"\"Calculates dew point series from temperature and humidity series\"\"\"\n",
    "        dew_points = []\n",
    "        for T, RH in zip(self._temperatures[0], self._humidities[0]):\n",
    "            dew_points.append(T - (100 - RH)/5)\n",
    "            \n",
    "        return dew_points\n",
    "    \n",
    "    @property\n",
    "    def heat_index(self) -> list:\n",
    "        \"\"\"\n",
    "        Calculates heat index series from temperature and humidity series\n",
    "        \"\"\"\n",
    "        heat_indices = []\n",
    "        for T, R in zip(self._temperatures[0], self._humidities[0]):\n",
    "            HI = -8.78469475556 + 1.61139411*T + 2.33854883889*R - 0.14611605*T*R - 0.012308094*T**2 - 0.0164248277778*R**2 + 2.211732e-3*T**2*R + 7.2546e-4*T*R**2 - 3.582e-6*T**2*R**2\n",
    "            heat_indices.append(HI)\n",
    "        return heat_indices\n",
    "    "
   ]
  },
  {
   "cell_type": "code",
   "execution_count": 245,
   "metadata": {},
   "outputs": [
    {
     "name": "stdout",
     "output_type": "stream",
     "text": [
      "Weather Station: Imperial, Location: (51.4988, 0.1749), Height: 15.0m\n",
      "Temperatures (C): [20.0, 22.0, 23.0, 19.0, 21.0, 24.0]\n",
      "Temperatures (K): [293.15, 295.15, 296.15, 292.15, 294.15, 297.15]\n",
      "Temperatures (F): [68.0, 71.6, 73.4, 66.2, 69.8, 75.2]\n",
      "Dew Points (C): [16.0, 19.0, 19.4, 17.2, 18.6, 19.8]\n",
      "Heat Indices (C): [21.16366317771997, 21.355740959485004, 22.905171503492788, 17.640447671468223, 19.77988317947681, 24.429601707500222]\n"
     ]
    },
    {
     "data": {
      "image/png": "[encoded data removed]",
      "text/plain": [
       "<Figure size 700x400 with 3 Axes>"
      ]
     },
     "metadata": {},
     "output_type": "display_data"
    },
    {
     "name": "stdout",
     "output_type": "stream",
     "text": [
      "New name: Imperial College London\n"
     ]
    }
   ],
   "source": [
    "# =============\n",
    "#  Weather Station class demo\n",
    "# =============\n",
    "\n",
    "# Initialise\n",
    "station = weather_station(\"Imperial\", (51.4988, 0.1749), 15.0)\n",
    "\n",
    "# Add data\n",
    "station.record_temperature(20.0, \"2023-10-01\")\n",
    "station.record_temperature(22.0, \"2023-10-02\")\n",
    "station.record_temperature(23.0, \"2023-10-03\")\n",
    "station.record_temperature(19.0, \"2023-10-04\")\n",
    "station.record_temperature(21.0, \"2023-10-05\")\n",
    "station.record_temperature(24.0, \"2023-10-06\")\n",
    "\n",
    "\n",
    "station.record_humidity(80.0, \"2023-10-01\")\n",
    "station.record_humidity(85.0, \"2023-10-02\")\n",
    "station.record_humidity(82.0, \"2023-10-03\")\n",
    "station.record_humidity(91.0, \"2023-10-04\")\n",
    "station.record_humidity(88.0, \"2023-10-05\")\n",
    "station.record_humidity(79.0, \"2023-10-06\")\n",
    "\n",
    "station.record_pressure(1015.0, \"2023-10-01\")\n",
    "station.record_pressure(1020.0, \"2023-10-02\")\n",
    "station.record_pressure(1018.0, \"2023-10-03\")\n",
    "station.record_pressure(1012.0, \"2023-10-04\")\n",
    "station.record_pressure(1013.0, \"2023-10-05\")\n",
    "station.record_pressure(1017.0, \"2023-10-06\")\n",
    "\n",
    "# Print\n",
    "print(station)\n",
    "print(\"Temperatures (C):\", station.celsius)\n",
    "print(\"Temperatures (K):\", station.kelvin)\n",
    "print(\"Temperatures (F):\", station.fahrenheit)\n",
    "print(\"Dew Points (C):\", station.dew_point)\n",
    "print(\"Heat Indices (C):\", station.heat_index)\n",
    "\n",
    "\n",
    "# plotting functionality\n",
    "station.plot.all() # individual serieses also available: .temperature(), .pressure(), .humidity()\n",
    "\n",
    "\n",
    "\n",
    "# misc functions:\n",
    "station.rename(\"Imperial College London\")\n",
    "print(f\"New name: {station._name}\")\n"
   ]
  },
  {
   "cell_type": "code",
   "execution_count": null,
   "metadata": {},
   "outputs": [],
   "source": []
  }
 ],
 "metadata": {
  "kernelspec": {
   "display_name": "introduction-to-python-new",
   "language": "python",
   "name": "python3"
  },
  "language_info": {
   "codemirror_mode": {
    "name": "ipython",
    "version": 3
   },
   "file_extension": ".py",
   "mimetype": "text/x-python",
   "name": "python",
   "nbconvert_exporter": "python",
   "pygments_lexer": "ipython3",
   "version": "3.11.13"
  }
 },
 "nbformat": 4,
 "nbformat_minor": 2
}
